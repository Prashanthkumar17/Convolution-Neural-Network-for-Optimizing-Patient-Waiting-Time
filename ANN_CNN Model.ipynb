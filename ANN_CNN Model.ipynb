{
  "nbformat": 4,
  "nbformat_minor": 0,
  "metadata": {
    "kernelspec": {
      "display_name": "Python 3",
      "language": "python",
      "name": "python3"
    },
    "language_info": {
      "codemirror_mode": {
        "name": "ipython",
        "version": 3
      },
      "file_extension": ".py",
      "mimetype": "text/x-python",
      "name": "python",
      "nbconvert_exporter": "python",
      "pygments_lexer": "ipython3",
      "version": "3.7.4"
    },
    "colab": {
      "name": "ANN_CNN_Model.ipynb",
      "provenance": [],
      "collapsed_sections": []
    },
    "accelerator": "GPU"
  },
  "cells": [
    {
      "cell_type": "code",
      "metadata": {
        "id": "lSjwJsnwV_NL",
        "colab_type": "code",
        "colab": {
          "base_uri": "https://localhost:8080/",
          "height": 55
        },
        "outputId": "5fadd287-d7e1-47da-aa8e-0eb0e553d3a1"
      },
      "source": [
        "from google.colab import drive\n",
        "drive.mount('/content/drive/')"
      ],
      "execution_count": 57,
      "outputs": [
        {
          "output_type": "stream",
          "text": [
            "Drive already mounted at /content/drive/; to attempt to forcibly remount, call drive.mount(\"/content/drive/\", force_remount=True).\n"
          ],
          "name": "stdout"
        }
      ]
    },
    {
      "cell_type": "code",
      "metadata": {
        "id": "XIPrnBqzWAbs",
        "colab_type": "code",
        "colab": {}
      },
      "source": [
        "import keras\n",
        "import numpy as np\n",
        "import pandas as pd\n",
        "from keras.models import Sequential\n",
        "from keras.layers import Dense, Dropout\n",
        "from sklearn.model_selection import train_test_split\n",
        "from sklearn import metrics"
      ],
      "execution_count": 58,
      "outputs": []
    },
    {
      "cell_type": "code",
      "metadata": {
        "id": "5tqJu5UwV_NO",
        "colab_type": "code",
        "colab": {}
      },
      "source": [
        "# To generate pseudo-random numbers\n",
        "np.random.seed(3)\n",
        "\n",
        "X_CNN = np.empty([1000, 50, 50])\n",
        "X_ANN = np.empty([1000, 2500])\n",
        "y = np.empty([1000])\n",
        "data_path = \"/content/drive/My Drive/ANNCNN/ANNCNN/DS/\"\n",
        "for i in range(1000):\n",
        "    dataset = pd.read_csv(data_path + 'data'+str(i)+'.csv')\n",
        "    datasetNo_header = dataset.to_csv(header=None,index=False)\n",
        "    X_CNN[i] = np.reshape(np.array((datasetNo_header.replace(\"[\",'').replace(\"]\",\"\").replace('\\n',\"\")).split()), (-1,50))\n",
        "    X_ANN[i] = np.array((datasetNo_header.replace(\"[\",'').replace(\"]\",\"\").replace('\\n',\"\")).split())\n",
        "    y[i] = np.array((dataset.columns[0].split(\":\"))[1])\n",
        "    \n",
        "# Spliting data into 80% for training & 20% for testing\n",
        "X_train_CNN, X_test_CNN, X_train_ANN, X_test_ANN, y_train, y_test = train_test_split(X_CNN, X_ANN, y, test_size=0.2, random_state=32)"
      ],
      "execution_count": 59,
      "outputs": []
    },
    {
      "cell_type": "code",
      "metadata": {
        "id": "TughjMN3V_NQ",
        "colab_type": "code",
        "colab": {
          "base_uri": "https://localhost:8080/",
          "height": 35
        },
        "outputId": "3d741de8-4584-447f-fd92-d36e7af8a4e3"
      },
      "source": [
        "# Displaying shape of data\n",
        "X_CNN.shape, X_ANN.shape, y.shape"
      ],
      "execution_count": 60,
      "outputs": [
        {
          "output_type": "execute_result",
          "data": {
            "text/plain": [
              "((1000, 50, 50), (1000, 2500), (1000,))"
            ]
          },
          "metadata": {
            "tags": []
          },
          "execution_count": 60
        }
      ]
    },
    {
      "cell_type": "code",
      "metadata": {
        "id": "ieOgbe5gV_NT",
        "colab_type": "code",
        "colab": {
          "base_uri": "https://localhost:8080/",
          "height": 35
        },
        "outputId": "d202dac1-640c-47c3-f113-0ddca647a2cc"
      },
      "source": [
        "# Displaying shape of training and testing data\n",
        "X_train_CNN.shape, X_test_CNN.shape, X_train_ANN.shape, X_test_ANN.shape, y_train.shape, y_test.shape"
      ],
      "execution_count": 61,
      "outputs": [
        {
          "output_type": "execute_result",
          "data": {
            "text/plain": [
              "((800, 50, 50), (200, 50, 50), (800, 2500), (200, 2500), (800,), (200,))"
            ]
          },
          "metadata": {
            "tags": []
          },
          "execution_count": 61
        }
      ]
    },
    {
      "cell_type": "markdown",
      "metadata": {
        "id": "leXIFK1VV_NV",
        "colab_type": "text"
      },
      "source": [
        "# Applying Feature  Scaling \n"
      ]
    },
    {
      "cell_type": "code",
      "metadata": {
        "id": "Y4j_pkrpV_NW",
        "colab_type": "code",
        "colab": {
          "base_uri": "https://localhost:8080/",
          "height": 35
        },
        "outputId": "750c9c9d-85cf-4f1d-d4f8-66c140ad74f2"
      },
      "source": [
        "# It outputs maximum X value from X_CNN data\n",
        "X_valuemax = np.amax(X_CNN)\n",
        "# It oputputs maximum Y value from Y_CNN data\n",
        "Y_valuemax = np.amax(y)\n",
        "print(X_valuemax, Y_valuemax)"
      ],
      "execution_count": 62,
      "outputs": [
        {
          "output_type": "stream",
          "text": [
            "499.0 1981.0\n"
          ],
          "name": "stdout"
        }
      ]
    },
    {
      "cell_type": "code",
      "metadata": {
        "id": "C9UOYTkQV_NY",
        "colab_type": "code",
        "colab": {}
      },
      "source": [
        "# Coverting all the values in x and y training and testing dataset to range between 0 and 1 by dividing each \n",
        "# and every value by maximum value\n",
        "X_train_CNN = X_train_CNN.astype('float32')/X_valuemax\n",
        "X_test_CNN  = X_test_CNN.astype('float32')/X_valuemax\n",
        "X_train_ANN = X_train_ANN.astype('float32')/X_valuemax\n",
        "X_test_ANN  = X_test_ANN.astype('float32')/X_valuemax\n",
        "y_train   = y_train.astype('float32')/Y_valuemax\n",
        "y_test    = y_test.astype('float32')/Y_valuemax"
      ],
      "execution_count": 63,
      "outputs": []
    },
    {
      "cell_type": "markdown",
      "metadata": {
        "id": "-om78NRXV_Na",
        "colab_type": "text"
      },
      "source": [
        "# Designing Artifical Neural Network (ANN) Model"
      ]
    },
    {
      "cell_type": "code",
      "metadata": {
        "id": "bpyPUYhWV_Nb",
        "colab_type": "code",
        "colab": {}
      },
      "source": [
        "# Spliting data into 80% for training and 20% for testing \n",
        "X_trainANN, X_validationANN, y_trainANN, y_validationANN = train_test_split(X_train_ANN, y_train, test_size= 0.2, random_state=2025)"
      ],
      "execution_count": 64,
      "outputs": []
    },
    {
      "cell_type": "code",
      "metadata": {
        "id": "UPee3YhMV_Nd",
        "colab_type": "code",
        "colab": {
          "base_uri": "https://localhost:8080/",
          "height": 35
        },
        "outputId": "266fbc93-0481-4e85-c881-79e987a079c4"
      },
      "source": [
        "# Displaying the shape of training and validation data\n",
        "X_trainANN.shape,  X_validationANN.shape, y_trainANN.shape,y_validationANN.shape"
      ],
      "execution_count": 65,
      "outputs": [
        {
          "output_type": "execute_result",
          "data": {
            "text/plain": [
              "((640, 2500), (160, 2500), (640,), (160,))"
            ]
          },
          "metadata": {
            "tags": []
          },
          "execution_count": 65
        }
      ]
    },
    {
      "cell_type": "code",
      "metadata": {
        "id": "fN73FAH9V_Nf",
        "colab_type": "code",
        "colab": {}
      },
      "source": [
        "# Create ANN model using keras\n",
        "ANN_model = Sequential()\n",
        "# Adding dense layer to model\n",
        "ANN_model.add(Dense(16, input_dim=2500, kernel_initializer='normal', activation='relu'))\n",
        "ANN_model.add(Dense(1, kernel_initializer='normal'))\n",
        "# Compile model using adam optimizer\n",
        "ANN_model.compile(loss='mean_squared_error', optimizer='adam')"
      ],
      "execution_count": 66,
      "outputs": []
    },
    {
      "cell_type": "code",
      "metadata": {
        "id": "qgW96HnyV_Nh",
        "colab_type": "code",
        "colab": {
          "base_uri": "https://localhost:8080/",
          "height": 1000
        },
        "outputId": "fdbf45a2-2df3-4fde-cadd-d09f25352c8f"
      },
      "source": [
        "#fit the model by inputing traing and testing data to the network\n",
        "ANN_model.fit(X_trainANN, y_trainANN, epochs = 100, batch_size=64, validation_data=(X_validationANN, y_validationANN))"
      ],
      "execution_count": 67,
      "outputs": [
        {
          "output_type": "stream",
          "text": [
            "Train on 640 samples, validate on 160 samples\n",
            "Epoch 1/100\n",
            "640/640 [==============================] - 0s 170us/step - loss: 0.1224 - val_loss: 0.0177\n",
            "Epoch 2/100\n",
            "640/640 [==============================] - 0s 63us/step - loss: 0.0136 - val_loss: 0.0110\n",
            "Epoch 3/100\n",
            "640/640 [==============================] - 0s 60us/step - loss: 0.0113 - val_loss: 0.0087\n",
            "Epoch 4/100\n",
            "640/640 [==============================] - 0s 60us/step - loss: 0.0095 - val_loss: 0.0080\n",
            "Epoch 5/100\n",
            "640/640 [==============================] - 0s 64us/step - loss: 0.0089 - val_loss: 0.0078\n",
            "Epoch 6/100\n",
            "640/640 [==============================] - 0s 70us/step - loss: 0.0086 - val_loss: 0.0077\n",
            "Epoch 7/100\n",
            "640/640 [==============================] - 0s 66us/step - loss: 0.0085 - val_loss: 0.0074\n",
            "Epoch 8/100\n",
            "640/640 [==============================] - 0s 66us/step - loss: 0.0080 - val_loss: 0.0078\n",
            "Epoch 9/100\n",
            "640/640 [==============================] - 0s 67us/step - loss: 0.0078 - val_loss: 0.0070\n",
            "Epoch 10/100\n",
            "640/640 [==============================] - 0s 63us/step - loss: 0.0072 - val_loss: 0.0069\n",
            "Epoch 11/100\n",
            "640/640 [==============================] - 0s 74us/step - loss: 0.0069 - val_loss: 0.0068\n",
            "Epoch 12/100\n",
            "640/640 [==============================] - 0s 61us/step - loss: 0.0066 - val_loss: 0.0066\n",
            "Epoch 13/100\n",
            "640/640 [==============================] - 0s 66us/step - loss: 0.0063 - val_loss: 0.0064\n",
            "Epoch 14/100\n",
            "640/640 [==============================] - 0s 80us/step - loss: 0.0060 - val_loss: 0.0067\n",
            "Epoch 15/100\n",
            "640/640 [==============================] - 0s 60us/step - loss: 0.0057 - val_loss: 0.0061\n",
            "Epoch 16/100\n",
            "640/640 [==============================] - 0s 68us/step - loss: 0.0055 - val_loss: 0.0062\n",
            "Epoch 17/100\n",
            "640/640 [==============================] - 0s 68us/step - loss: 0.0053 - val_loss: 0.0059\n",
            "Epoch 18/100\n",
            "640/640 [==============================] - 0s 80us/step - loss: 0.0052 - val_loss: 0.0057\n",
            "Epoch 19/100\n",
            "640/640 [==============================] - 0s 61us/step - loss: 0.0049 - val_loss: 0.0056\n",
            "Epoch 20/100\n",
            "640/640 [==============================] - 0s 69us/step - loss: 0.0046 - val_loss: 0.0055\n",
            "Epoch 21/100\n",
            "640/640 [==============================] - 0s 73us/step - loss: 0.0045 - val_loss: 0.0055\n",
            "Epoch 22/100\n",
            "640/640 [==============================] - 0s 73us/step - loss: 0.0043 - val_loss: 0.0052\n",
            "Epoch 23/100\n",
            "640/640 [==============================] - 0s 65us/step - loss: 0.0040 - val_loss: 0.0052\n",
            "Epoch 24/100\n",
            "640/640 [==============================] - 0s 60us/step - loss: 0.0039 - val_loss: 0.0050\n",
            "Epoch 25/100\n",
            "640/640 [==============================] - 0s 72us/step - loss: 0.0037 - val_loss: 0.0048\n",
            "Epoch 26/100\n",
            "640/640 [==============================] - 0s 66us/step - loss: 0.0035 - val_loss: 0.0048\n",
            "Epoch 27/100\n",
            "640/640 [==============================] - 0s 62us/step - loss: 0.0035 - val_loss: 0.0048\n",
            "Epoch 28/100\n",
            "640/640 [==============================] - 0s 60us/step - loss: 0.0033 - val_loss: 0.0047\n",
            "Epoch 29/100\n",
            "640/640 [==============================] - 0s 64us/step - loss: 0.0031 - val_loss: 0.0046\n",
            "Epoch 30/100\n",
            "640/640 [==============================] - 0s 60us/step - loss: 0.0030 - val_loss: 0.0045\n",
            "Epoch 31/100\n",
            "640/640 [==============================] - 0s 60us/step - loss: 0.0028 - val_loss: 0.0046\n",
            "Epoch 32/100\n",
            "640/640 [==============================] - 0s 66us/step - loss: 0.0027 - val_loss: 0.0044\n",
            "Epoch 33/100\n",
            "640/640 [==============================] - 0s 69us/step - loss: 0.0026 - val_loss: 0.0043\n",
            "Epoch 34/100\n",
            "640/640 [==============================] - 0s 79us/step - loss: 0.0025 - val_loss: 0.0044\n",
            "Epoch 35/100\n",
            "640/640 [==============================] - 0s 69us/step - loss: 0.0024 - val_loss: 0.0042\n",
            "Epoch 36/100\n",
            "640/640 [==============================] - 0s 62us/step - loss: 0.0023 - val_loss: 0.0042\n",
            "Epoch 37/100\n",
            "640/640 [==============================] - 0s 65us/step - loss: 0.0023 - val_loss: 0.0042\n",
            "Epoch 38/100\n",
            "640/640 [==============================] - 0s 59us/step - loss: 0.0021 - val_loss: 0.0042\n",
            "Epoch 39/100\n",
            "640/640 [==============================] - 0s 65us/step - loss: 0.0020 - val_loss: 0.0046\n",
            "Epoch 40/100\n",
            "640/640 [==============================] - 0s 63us/step - loss: 0.0021 - val_loss: 0.0041\n",
            "Epoch 41/100\n",
            "640/640 [==============================] - 0s 63us/step - loss: 0.0019 - val_loss: 0.0040\n",
            "Epoch 42/100\n",
            "640/640 [==============================] - 0s 61us/step - loss: 0.0018 - val_loss: 0.0042\n",
            "Epoch 43/100\n",
            "640/640 [==============================] - 0s 62us/step - loss: 0.0018 - val_loss: 0.0039\n",
            "Epoch 44/100\n",
            "640/640 [==============================] - 0s 61us/step - loss: 0.0017 - val_loss: 0.0040\n",
            "Epoch 45/100\n",
            "640/640 [==============================] - 0s 77us/step - loss: 0.0016 - val_loss: 0.0040\n",
            "Epoch 46/100\n",
            "640/640 [==============================] - 0s 67us/step - loss: 0.0015 - val_loss: 0.0041\n",
            "Epoch 47/100\n",
            "640/640 [==============================] - 0s 60us/step - loss: 0.0014 - val_loss: 0.0042\n",
            "Epoch 48/100\n",
            "640/640 [==============================] - 0s 61us/step - loss: 0.0014 - val_loss: 0.0040\n",
            "Epoch 49/100\n",
            "640/640 [==============================] - 0s 60us/step - loss: 0.0013 - val_loss: 0.0040\n",
            "Epoch 50/100\n",
            "640/640 [==============================] - 0s 61us/step - loss: 0.0012 - val_loss: 0.0040\n",
            "Epoch 51/100\n",
            "640/640 [==============================] - 0s 60us/step - loss: 0.0012 - val_loss: 0.0039\n",
            "Epoch 52/100\n",
            "640/640 [==============================] - 0s 62us/step - loss: 0.0012 - val_loss: 0.0042\n",
            "Epoch 53/100\n",
            "640/640 [==============================] - 0s 61us/step - loss: 0.0011 - val_loss: 0.0039\n",
            "Epoch 54/100\n",
            "640/640 [==============================] - 0s 65us/step - loss: 0.0011 - val_loss: 0.0041\n",
            "Epoch 55/100\n",
            "640/640 [==============================] - 0s 62us/step - loss: 0.0010 - val_loss: 0.0040\n",
            "Epoch 56/100\n",
            "640/640 [==============================] - 0s 74us/step - loss: 9.9948e-04 - val_loss: 0.0042\n",
            "Epoch 57/100\n",
            "640/640 [==============================] - 0s 67us/step - loss: 9.7201e-04 - val_loss: 0.0040\n",
            "Epoch 58/100\n",
            "640/640 [==============================] - 0s 80us/step - loss: 9.2800e-04 - val_loss: 0.0039\n",
            "Epoch 59/100\n",
            "640/640 [==============================] - 0s 74us/step - loss: 9.0568e-04 - val_loss: 0.0039\n",
            "Epoch 60/100\n",
            "640/640 [==============================] - 0s 68us/step - loss: 8.7625e-04 - val_loss: 0.0040\n",
            "Epoch 61/100\n",
            "640/640 [==============================] - 0s 69us/step - loss: 8.8152e-04 - val_loss: 0.0040\n",
            "Epoch 62/100\n",
            "640/640 [==============================] - 0s 71us/step - loss: 8.5221e-04 - val_loss: 0.0041\n",
            "Epoch 63/100\n",
            "640/640 [==============================] - 0s 70us/step - loss: 7.8537e-04 - val_loss: 0.0040\n",
            "Epoch 64/100\n",
            "640/640 [==============================] - 0s 75us/step - loss: 7.9696e-04 - val_loss: 0.0039\n",
            "Epoch 65/100\n",
            "640/640 [==============================] - 0s 70us/step - loss: 7.7102e-04 - val_loss: 0.0040\n",
            "Epoch 66/100\n",
            "640/640 [==============================] - 0s 69us/step - loss: 7.4231e-04 - val_loss: 0.0040\n",
            "Epoch 67/100\n",
            "640/640 [==============================] - 0s 68us/step - loss: 6.8568e-04 - val_loss: 0.0041\n",
            "Epoch 68/100\n",
            "640/640 [==============================] - 0s 81us/step - loss: 6.7509e-04 - val_loss: 0.0040\n",
            "Epoch 69/100\n",
            "640/640 [==============================] - 0s 65us/step - loss: 6.6560e-04 - val_loss: 0.0039\n",
            "Epoch 70/100\n",
            "640/640 [==============================] - 0s 61us/step - loss: 6.8178e-04 - val_loss: 0.0041\n",
            "Epoch 71/100\n",
            "640/640 [==============================] - 0s 69us/step - loss: 6.6137e-04 - val_loss: 0.0042\n",
            "Epoch 72/100\n",
            "640/640 [==============================] - 0s 66us/step - loss: 7.0069e-04 - val_loss: 0.0040\n",
            "Epoch 73/100\n",
            "640/640 [==============================] - 0s 62us/step - loss: 6.3156e-04 - val_loss: 0.0041\n",
            "Epoch 74/100\n",
            "640/640 [==============================] - 0s 62us/step - loss: 5.8633e-04 - val_loss: 0.0039\n",
            "Epoch 75/100\n",
            "640/640 [==============================] - 0s 61us/step - loss: 5.3578e-04 - val_loss: 0.0040\n",
            "Epoch 76/100\n",
            "640/640 [==============================] - 0s 60us/step - loss: 5.1670e-04 - val_loss: 0.0040\n",
            "Epoch 77/100\n",
            "640/640 [==============================] - 0s 62us/step - loss: 5.1109e-04 - val_loss: 0.0039\n",
            "Epoch 78/100\n",
            "640/640 [==============================] - 0s 65us/step - loss: 5.1891e-04 - val_loss: 0.0041\n",
            "Epoch 79/100\n",
            "640/640 [==============================] - 0s 65us/step - loss: 4.7688e-04 - val_loss: 0.0041\n",
            "Epoch 80/100\n",
            "640/640 [==============================] - 0s 72us/step - loss: 4.9305e-04 - val_loss: 0.0040\n",
            "Epoch 81/100\n",
            "640/640 [==============================] - 0s 76us/step - loss: 4.4308e-04 - val_loss: 0.0041\n",
            "Epoch 82/100\n",
            "640/640 [==============================] - 0s 63us/step - loss: 4.2635e-04 - val_loss: 0.0040\n",
            "Epoch 83/100\n",
            "640/640 [==============================] - 0s 63us/step - loss: 4.3127e-04 - val_loss: 0.0040\n",
            "Epoch 84/100\n",
            "640/640 [==============================] - 0s 69us/step - loss: 4.3230e-04 - val_loss: 0.0040\n",
            "Epoch 85/100\n",
            "640/640 [==============================] - 0s 74us/step - loss: 4.1273e-04 - val_loss: 0.0042\n",
            "Epoch 86/100\n",
            "640/640 [==============================] - 0s 70us/step - loss: 3.7513e-04 - val_loss: 0.0040\n",
            "Epoch 87/100\n",
            "640/640 [==============================] - 0s 67us/step - loss: 3.8346e-04 - val_loss: 0.0039\n",
            "Epoch 88/100\n",
            "640/640 [==============================] - 0s 69us/step - loss: 3.5652e-04 - val_loss: 0.0041\n",
            "Epoch 89/100\n",
            "640/640 [==============================] - 0s 67us/step - loss: 3.5366e-04 - val_loss: 0.0043\n",
            "Epoch 90/100\n",
            "640/640 [==============================] - 0s 63us/step - loss: 3.5833e-04 - val_loss: 0.0040\n",
            "Epoch 91/100\n",
            "640/640 [==============================] - 0s 78us/step - loss: 3.3600e-04 - val_loss: 0.0041\n",
            "Epoch 92/100\n",
            "640/640 [==============================] - 0s 67us/step - loss: 3.0377e-04 - val_loss: 0.0042\n",
            "Epoch 93/100\n",
            "640/640 [==============================] - 0s 72us/step - loss: 2.9998e-04 - val_loss: 0.0041\n",
            "Epoch 94/100\n",
            "640/640 [==============================] - 0s 71us/step - loss: 2.6599e-04 - val_loss: 0.0042\n",
            "Epoch 95/100\n",
            "640/640 [==============================] - 0s 68us/step - loss: 2.6152e-04 - val_loss: 0.0042\n",
            "Epoch 96/100\n",
            "640/640 [==============================] - 0s 70us/step - loss: 2.7257e-04 - val_loss: 0.0041\n",
            "Epoch 97/100\n",
            "640/640 [==============================] - 0s 69us/step - loss: 2.6566e-04 - val_loss: 0.0041\n",
            "Epoch 98/100\n",
            "640/640 [==============================] - 0s 60us/step - loss: 2.3402e-04 - val_loss: 0.0043\n",
            "Epoch 99/100\n",
            "640/640 [==============================] - 0s 63us/step - loss: 2.2817e-04 - val_loss: 0.0043\n",
            "Epoch 100/100\n",
            "640/640 [==============================] - 0s 66us/step - loss: 2.1675e-04 - val_loss: 0.0043\n"
          ],
          "name": "stdout"
        },
        {
          "output_type": "execute_result",
          "data": {
            "text/plain": [
              "<keras.callbacks.callbacks.History at 0x7ff76029d748>"
            ]
          },
          "metadata": {
            "tags": []
          },
          "execution_count": 67
        }
      ]
    },
    {
      "cell_type": "code",
      "metadata": {
        "id": "U7uh-tFGV_Nj",
        "colab_type": "code",
        "colab": {}
      },
      "source": [
        "# saving the ANN model\n",
        "ANN_model.save('1116540-ANN.h5')"
      ],
      "execution_count": 68,
      "outputs": []
    },
    {
      "cell_type": "markdown",
      "metadata": {
        "id": "ROVESyFaV_Nm",
        "colab_type": "text"
      },
      "source": [
        "# Designing CNN Model"
      ]
    },
    {
      "cell_type": "code",
      "metadata": {
        "id": "xmPIYjAcV_Nm",
        "colab_type": "code",
        "colab": {
          "base_uri": "https://localhost:8080/",
          "height": 35
        },
        "outputId": "076846bf-df5c-4417-f89c-4c086103c610"
      },
      "source": [
        "# It displays the demension of CNN training and testing datasets\n",
        "X_train_CNN.ndim, X_test_CNN.ndim"
      ],
      "execution_count": 69,
      "outputs": [
        {
          "output_type": "execute_result",
          "data": {
            "text/plain": [
              "(3, 3)"
            ]
          },
          "metadata": {
            "tags": []
          },
          "execution_count": 69
        }
      ]
    },
    {
      "cell_type": "code",
      "metadata": {
        "id": "SO6DL-wJV_Nq",
        "colab_type": "code",
        "colab": {}
      },
      "source": [
        "# Expanding the 3-dimension to 4-dimension array\n",
        "X_train_CNN = np.expand_dims(X_train_CNN, -1)\n",
        "X_test_CNN = np.expand_dims(X_test_CNN, -1)"
      ],
      "execution_count": 70,
      "outputs": []
    },
    {
      "cell_type": "code",
      "metadata": {
        "id": "mL4cKG8lV_Nr",
        "colab_type": "code",
        "colab": {
          "base_uri": "https://localhost:8080/",
          "height": 35
        },
        "outputId": "55b4c411-6a31-4fab-fa79-e589f2242337"
      },
      "source": [
        "# It displays the dimension of CNN datasets\n",
        "X_train_CNN.ndim, X_test_CNN.ndim"
      ],
      "execution_count": 71,
      "outputs": [
        {
          "output_type": "execute_result",
          "data": {
            "text/plain": [
              "(4, 4)"
            ]
          },
          "metadata": {
            "tags": []
          },
          "execution_count": 71
        }
      ]
    },
    {
      "cell_type": "code",
      "metadata": {
        "id": "zfgA99guV_Nt",
        "colab_type": "code",
        "colab": {}
      },
      "source": [
        "#Spliting the data into training and validation\n",
        "X_train_CNN, X_validation_CNN, y_train_CNN, y_validation_CNN = train_test_split(X_train_CNN, y_train, test_size= 0.2, random_state=2025)"
      ],
      "execution_count": 72,
      "outputs": []
    },
    {
      "cell_type": "code",
      "metadata": {
        "id": "L1Ru-cAQV_Nv",
        "colab_type": "code",
        "colab": {
          "base_uri": "https://localhost:8080/",
          "height": 35
        },
        "outputId": "96441ac6-c709-45c2-848f-aa9f76b3e3f9"
      },
      "source": [
        "#Displays the shape of training and validation data\n",
        "X_train_CNN.shape,  X_validation_CNN.shape, y_train_CNN.shape, y_validation_CNN.shape"
      ],
      "execution_count": 73,
      "outputs": [
        {
          "output_type": "execute_result",
          "data": {
            "text/plain": [
              "((640, 50, 50, 1), (160, 50, 50, 1), (640,), (160,))"
            ]
          },
          "metadata": {
            "tags": []
          },
          "execution_count": 73
        }
      ]
    },
    {
      "cell_type": "code",
      "metadata": {
        "id": "pcuUY0_-V_Nx",
        "colab_type": "code",
        "colab": {}
      },
      "source": [
        "# Creatinging CNN model using keras \n",
        "CNN_model = keras.models.Sequential([\n",
        "                         keras.layers.Conv2D(filters=64, kernel_size=3, strides=(1,1), padding='valid',activation= 'relu', input_shape=[50,50,1]),\n",
        "                         keras.layers.MaxPooling2D(pool_size=(2,2)),\n",
        "                         keras.layers.Flatten(),\n",
        "                         keras.layers.Dense(units=128, activation='relu'),\n",
        "                         keras.layers.Dense(units=1, activation='linear')\n",
        "])"
      ],
      "execution_count": 74,
      "outputs": []
    },
    {
      "cell_type": "code",
      "metadata": {
        "id": "Hfj0itdpV_Ny",
        "colab_type": "code",
        "colab": {
          "base_uri": "https://localhost:8080/",
          "height": 329
        },
        "outputId": "d00e60f9-5d48-4271-86ad-029dee0e32c0"
      },
      "source": [
        "CNN_model.summary()"
      ],
      "execution_count": 75,
      "outputs": [
        {
          "output_type": "stream",
          "text": [
            "Model: \"sequential_6\"\n",
            "_________________________________________________________________\n",
            "Layer (type)                 Output Shape              Param #   \n",
            "=================================================================\n",
            "conv2d_3 (Conv2D)            (None, 48, 48, 64)        640       \n",
            "_________________________________________________________________\n",
            "max_pooling2d_3 (MaxPooling2 (None, 24, 24, 64)        0         \n",
            "_________________________________________________________________\n",
            "flatten_3 (Flatten)          (None, 36864)             0         \n",
            "_________________________________________________________________\n",
            "dense_11 (Dense)             (None, 128)               4718720   \n",
            "_________________________________________________________________\n",
            "dense_12 (Dense)             (None, 1)                 129       \n",
            "=================================================================\n",
            "Total params: 4,719,489\n",
            "Trainable params: 4,719,489\n",
            "Non-trainable params: 0\n",
            "_________________________________________________________________\n"
          ],
          "name": "stdout"
        }
      ]
    },
    {
      "cell_type": "code",
      "metadata": {
        "id": "UQBQ4vezV_N0",
        "colab_type": "code",
        "colab": {}
      },
      "source": [
        "# complieing the cnn model using adam optimizer\n",
        "CNN_model.compile(loss='mean_squared_error', optimizer='adam')"
      ],
      "execution_count": 76,
      "outputs": []
    },
    {
      "cell_type": "code",
      "metadata": {
        "id": "P1PdLYvSV_N2",
        "colab_type": "code",
        "colab": {
          "base_uri": "https://localhost:8080/",
          "height": 1000
        },
        "outputId": "869b0819-fc8b-4517-a022-3e0bea42f8e2"
      },
      "source": [
        "# fit the model using training and testing data\n",
        "CNN_model.fit(X_train_CNN, y_train_CNN, epochs=80, batch_size=256, verbose=1, validation_data=(X_validation_CNN, y_validation_CNN))"
      ],
      "execution_count": 77,
      "outputs": [
        {
          "output_type": "stream",
          "text": [
            "Train on 640 samples, validate on 160 samples\n",
            "Epoch 1/80\n",
            "640/640 [==============================] - 0s 375us/step - loss: 35.0270 - val_loss: 3.1114\n",
            "Epoch 2/80\n",
            "640/640 [==============================] - 0s 197us/step - loss: 2.1642 - val_loss: 0.7740\n",
            "Epoch 3/80\n",
            "640/640 [==============================] - 0s 188us/step - loss: 0.7667 - val_loss: 0.7741\n",
            "Epoch 4/80\n",
            "640/640 [==============================] - 0s 179us/step - loss: 0.7667 - val_loss: 0.7736\n",
            "Epoch 5/80\n",
            "640/640 [==============================] - 0s 177us/step - loss: 0.6177 - val_loss: 0.1955\n",
            "Epoch 6/80\n",
            "640/640 [==============================] - 0s 162us/step - loss: 0.0982 - val_loss: 0.0352\n",
            "Epoch 7/80\n",
            "640/640 [==============================] - 0s 160us/step - loss: 0.0952 - val_loss: 0.1897\n",
            "Epoch 8/80\n",
            "640/640 [==============================] - 0s 169us/step - loss: 0.1655 - val_loss: 0.0547\n",
            "Epoch 9/80\n",
            "640/640 [==============================] - 0s 160us/step - loss: 0.0298 - val_loss: 0.0099\n",
            "Epoch 10/80\n",
            "640/640 [==============================] - 0s 159us/step - loss: 0.0264 - val_loss: 0.0678\n",
            "Epoch 11/80\n",
            "640/640 [==============================] - 0s 156us/step - loss: 0.0644 - val_loss: 0.0404\n",
            "Epoch 12/80\n",
            "640/640 [==============================] - 0s 160us/step - loss: 0.0253 - val_loss: 0.0021\n",
            "Epoch 13/80\n",
            "640/640 [==============================] - 0s 157us/step - loss: 0.0046 - val_loss: 0.0182\n",
            "Epoch 14/80\n",
            "640/640 [==============================] - 0s 157us/step - loss: 0.0226 - val_loss: 0.0201\n",
            "Epoch 15/80\n",
            "640/640 [==============================] - 0s 159us/step - loss: 0.0158 - val_loss: 0.0031\n",
            "Epoch 16/80\n",
            "640/640 [==============================] - 0s 159us/step - loss: 0.0029 - val_loss: 0.0068\n",
            "Epoch 17/80\n",
            "640/640 [==============================] - 0s 159us/step - loss: 0.0084 - val_loss: 0.0112\n",
            "Epoch 18/80\n",
            "640/640 [==============================] - 0s 163us/step - loss: 0.0087 - val_loss: 0.0038\n",
            "Epoch 19/80\n",
            "640/640 [==============================] - 0s 158us/step - loss: 0.0026 - val_loss: 0.0027\n",
            "Epoch 20/80\n",
            "640/640 [==============================] - 0s 158us/step - loss: 0.0039 - val_loss: 0.0048\n",
            "Epoch 21/80\n",
            "640/640 [==============================] - 0s 161us/step - loss: 0.0047 - val_loss: 0.0025\n",
            "Epoch 22/80\n",
            "640/640 [==============================] - 0s 158us/step - loss: 0.0022 - val_loss: 0.0024\n",
            "Epoch 23/80\n",
            "640/640 [==============================] - 0s 162us/step - loss: 0.0026 - val_loss: 0.0036\n",
            "Epoch 24/80\n",
            "640/640 [==============================] - 0s 163us/step - loss: 0.0031 - val_loss: 0.0024\n",
            "Epoch 25/80\n",
            "640/640 [==============================] - 0s 169us/step - loss: 0.0020 - val_loss: 0.0020\n",
            "Epoch 26/80\n",
            "640/640 [==============================] - 0s 160us/step - loss: 0.0022 - val_loss: 0.0023\n",
            "Epoch 27/80\n",
            "640/640 [==============================] - 0s 167us/step - loss: 0.0023 - val_loss: 0.0020\n",
            "Epoch 28/80\n",
            "640/640 [==============================] - 0s 168us/step - loss: 0.0019 - val_loss: 0.0021\n",
            "Epoch 29/80\n",
            "640/640 [==============================] - 0s 162us/step - loss: 0.0020 - val_loss: 0.0023\n",
            "Epoch 30/80\n",
            "640/640 [==============================] - 0s 161us/step - loss: 0.0020 - val_loss: 0.0020\n",
            "Epoch 31/80\n",
            "640/640 [==============================] - 0s 161us/step - loss: 0.0018 - val_loss: 0.0019\n",
            "Epoch 32/80\n",
            "640/640 [==============================] - 0s 159us/step - loss: 0.0019 - val_loss: 0.0019\n",
            "Epoch 33/80\n",
            "640/640 [==============================] - 0s 162us/step - loss: 0.0019 - val_loss: 0.0019\n",
            "Epoch 34/80\n",
            "640/640 [==============================] - 0s 167us/step - loss: 0.0018 - val_loss: 0.0020\n",
            "Epoch 35/80\n",
            "640/640 [==============================] - 0s 162us/step - loss: 0.0018 - val_loss: 0.0020\n",
            "Epoch 36/80\n",
            "640/640 [==============================] - 0s 160us/step - loss: 0.0018 - val_loss: 0.0019\n",
            "Epoch 37/80\n",
            "640/640 [==============================] - 0s 168us/step - loss: 0.0018 - val_loss: 0.0019\n",
            "Epoch 38/80\n",
            "640/640 [==============================] - 0s 162us/step - loss: 0.0018 - val_loss: 0.0019\n",
            "Epoch 39/80\n",
            "640/640 [==============================] - 0s 157us/step - loss: 0.0017 - val_loss: 0.0020\n",
            "Epoch 40/80\n",
            "640/640 [==============================] - 0s 165us/step - loss: 0.0017 - val_loss: 0.0019\n",
            "Epoch 41/80\n",
            "640/640 [==============================] - 0s 162us/step - loss: 0.0017 - val_loss: 0.0019\n",
            "Epoch 42/80\n",
            "640/640 [==============================] - 0s 171us/step - loss: 0.0017 - val_loss: 0.0019\n",
            "Epoch 43/80\n",
            "640/640 [==============================] - 0s 161us/step - loss: 0.0016 - val_loss: 0.0020\n",
            "Epoch 44/80\n",
            "640/640 [==============================] - 0s 161us/step - loss: 0.0016 - val_loss: 0.0020\n",
            "Epoch 45/80\n",
            "640/640 [==============================] - 0s 158us/step - loss: 0.0016 - val_loss: 0.0020\n",
            "Epoch 46/80\n",
            "640/640 [==============================] - 0s 158us/step - loss: 0.0016 - val_loss: 0.0020\n",
            "Epoch 47/80\n",
            "640/640 [==============================] - 0s 162us/step - loss: 0.0016 - val_loss: 0.0020\n",
            "Epoch 48/80\n",
            "640/640 [==============================] - 0s 165us/step - loss: 0.0015 - val_loss: 0.0020\n",
            "Epoch 49/80\n",
            "640/640 [==============================] - 0s 162us/step - loss: 0.0015 - val_loss: 0.0020\n",
            "Epoch 50/80\n",
            "640/640 [==============================] - 0s 164us/step - loss: 0.0015 - val_loss: 0.0020\n",
            "Epoch 51/80\n",
            "640/640 [==============================] - 0s 160us/step - loss: 0.0014 - val_loss: 0.0020\n",
            "Epoch 52/80\n",
            "640/640 [==============================] - 0s 159us/step - loss: 0.0014 - val_loss: 0.0020\n",
            "Epoch 53/80\n",
            "640/640 [==============================] - 0s 163us/step - loss: 0.0014 - val_loss: 0.0020\n",
            "Epoch 54/80\n",
            "640/640 [==============================] - 0s 158us/step - loss: 0.0014 - val_loss: 0.0020\n",
            "Epoch 55/80\n",
            "640/640 [==============================] - 0s 158us/step - loss: 0.0013 - val_loss: 0.0021\n",
            "Epoch 56/80\n",
            "640/640 [==============================] - 0s 158us/step - loss: 0.0013 - val_loss: 0.0020\n",
            "Epoch 57/80\n",
            "640/640 [==============================] - 0s 163us/step - loss: 0.0013 - val_loss: 0.0020\n",
            "Epoch 58/80\n",
            "640/640 [==============================] - 0s 161us/step - loss: 0.0012 - val_loss: 0.0021\n",
            "Epoch 59/80\n",
            "640/640 [==============================] - 0s 163us/step - loss: 0.0012 - val_loss: 0.0021\n",
            "Epoch 60/80\n",
            "640/640 [==============================] - 0s 158us/step - loss: 0.0012 - val_loss: 0.0021\n",
            "Epoch 61/80\n",
            "640/640 [==============================] - 0s 158us/step - loss: 0.0011 - val_loss: 0.0021\n",
            "Epoch 62/80\n",
            "640/640 [==============================] - 0s 161us/step - loss: 0.0011 - val_loss: 0.0022\n",
            "Epoch 63/80\n",
            "640/640 [==============================] - 0s 155us/step - loss: 0.0011 - val_loss: 0.0022\n",
            "Epoch 64/80\n",
            "640/640 [==============================] - 0s 157us/step - loss: 0.0011 - val_loss: 0.0022\n",
            "Epoch 65/80\n",
            "640/640 [==============================] - 0s 159us/step - loss: 0.0010 - val_loss: 0.0022\n",
            "Epoch 66/80\n",
            "640/640 [==============================] - 0s 159us/step - loss: 0.0010 - val_loss: 0.0022\n",
            "Epoch 67/80\n",
            "640/640 [==============================] - 0s 158us/step - loss: 9.8430e-04 - val_loss: 0.0022\n",
            "Epoch 68/80\n",
            "640/640 [==============================] - 0s 162us/step - loss: 9.5770e-04 - val_loss: 0.0023\n",
            "Epoch 69/80\n",
            "640/640 [==============================] - 0s 159us/step - loss: 9.3316e-04 - val_loss: 0.0023\n",
            "Epoch 70/80\n",
            "640/640 [==============================] - 0s 161us/step - loss: 9.0943e-04 - val_loss: 0.0023\n",
            "Epoch 71/80\n",
            "640/640 [==============================] - 0s 157us/step - loss: 8.8728e-04 - val_loss: 0.0023\n",
            "Epoch 72/80\n",
            "640/640 [==============================] - 0s 159us/step - loss: 8.6580e-04 - val_loss: 0.0023\n",
            "Epoch 73/80\n",
            "640/640 [==============================] - 0s 160us/step - loss: 8.4608e-04 - val_loss: 0.0024\n",
            "Epoch 74/80\n",
            "640/640 [==============================] - 0s 164us/step - loss: 8.2887e-04 - val_loss: 0.0024\n",
            "Epoch 75/80\n",
            "640/640 [==============================] - 0s 165us/step - loss: 8.0755e-04 - val_loss: 0.0024\n",
            "Epoch 76/80\n",
            "640/640 [==============================] - 0s 162us/step - loss: 7.8597e-04 - val_loss: 0.0024\n",
            "Epoch 77/80\n",
            "640/640 [==============================] - 0s 158us/step - loss: 7.7232e-04 - val_loss: 0.0024\n",
            "Epoch 78/80\n",
            "640/640 [==============================] - 0s 160us/step - loss: 7.4929e-04 - val_loss: 0.0024\n",
            "Epoch 79/80\n",
            "640/640 [==============================] - 0s 160us/step - loss: 7.3406e-04 - val_loss: 0.0025\n",
            "Epoch 80/80\n",
            "640/640 [==============================] - 0s 156us/step - loss: 7.2429e-04 - val_loss: 0.0025\n"
          ],
          "name": "stdout"
        },
        {
          "output_type": "execute_result",
          "data": {
            "text/plain": [
              "<keras.callbacks.callbacks.History at 0x7ff70a9c9860>"
            ]
          },
          "metadata": {
            "tags": []
          },
          "execution_count": 77
        }
      ]
    },
    {
      "cell_type": "code",
      "metadata": {
        "id": "9Lv9ErZKV_N4",
        "colab_type": "code",
        "colab": {}
      },
      "source": [
        "# saving the CNN model\n",
        "CNN_model.save('1116540-CNN.h5')"
      ],
      "execution_count": 78,
      "outputs": []
    },
    {
      "cell_type": "markdown",
      "metadata": {
        "id": "vSYt2d_tV_N6",
        "colab_type": "text"
      },
      "source": [
        "# Load the models to display predictive performance"
      ]
    },
    {
      "cell_type": "code",
      "metadata": {
        "id": "qvlrMYJxV_N6",
        "colab_type": "code",
        "colab": {
          "base_uri": "https://localhost:8080/",
          "height": 280
        },
        "outputId": "38274b55-0dcb-4ba2-a4a9-7f6f0a52492f"
      },
      "source": [
        "from keras.models import load_model\n",
        "import matplotlib.pyplot as plt\n",
        "%matplotlib inline\n",
        "\n",
        "load_ANN_model = load_model('1116540-ANN.h5')\n",
        "# Predictive ANN\n",
        "predict_ANN = load_ANN_model.predict(X_test_ANN)\n",
        "figure, axis = plt.subplots()\n",
        "#plots the graph for true vs predicted\n",
        "axis.scatter(y_test, predict_ANN)\n",
        "axis.plot([y_test.min(), y_test.max()], [predict_ANN.min(), predict_ANN.max()], 'k--', lw=4)\n",
        "axis.set_xlabel('True')\n",
        "axis.set_ylabel('Predicted')\n",
        "plt.show()"
      ],
      "execution_count": 79,
      "outputs": [
        {
          "output_type": "display_data",
          "data": {
            "image/png": "[encoded data removed]",
            "text/plain": [
              "<Figure size 432x288 with 1 Axes>"
            ]
          },
          "metadata": {
            "tags": [],
            "needs_background": "light"
          }
        }
      ]
    },
    {
      "cell_type": "code",
      "metadata": {
        "id": "jp9jsl9lV_N8",
        "colab_type": "code",
        "colab": {
          "base_uri": "https://localhost:8080/",
          "height": 279
        },
        "outputId": "73aa6c6a-7e58-4b3b-de12-fd0f9beba531"
      },
      "source": [
        "load_CNN_model = load_model('1116540-CNN.h5')\n",
        "\n",
        "# Predict CNN\n",
        "predict_CNN = load_CNN_model.predict(X_test_CNN)\n",
        "figure, axis = plt.subplots()\n",
        "# Plots the graph for true v/s predicted \n",
        "axis.scatter(y_test, predict_CNN)\n",
        "axis.plot([y_test.min(), y_test.max()], [predict_CNN.min(), predict_CNN.max()], 'k--', lw=4)\n",
        "axis.set_xlabel('True')\n",
        "axis.set_ylabel('Predicted')\n",
        "plt.show()"
      ],
      "execution_count": 80,
      "outputs": [
        {
          "output_type": "display_data",
          "data": {
            "image/png": "[encoded data removed]",
            "text/plain": [
              "<Figure size 432x288 with 1 Axes>"
            ]
          },
          "metadata": {
            "tags": [],
            "needs_background": "light"
          }
        }
      ]
    },
    {
      "cell_type": "code",
      "metadata": {
        "id": "7U1mEHNWe6vw",
        "colab_type": "code",
        "colab": {
          "base_uri": "https://localhost:8080/",
          "height": 69
        },
        "outputId": "2cf78f5d-5787-47b4-b275-2cab17c27ee4"
      },
      "source": [
        "from sklearn import metrics\n",
        "\n",
        "# Mean Square Error error performance metric.  \n",
        "MSE = metrics.mean_squared_error(predict_ANN, predict_CNN)\n",
        "print(\"Mean Square Error: \",MSE)\n",
        "\n",
        "# Root Mean Square Error error metric\n",
        "RMSE = np.sqrt(metrics.mean_squared_error(predict_ANN, predict_CNN))\n",
        "print(\"Root Mean Square Error: \",RMSE)\n",
        "\n",
        "# Mean Absolute Error metric\n",
        "MAE = metrics.mean_absolute_error(predict_ANN, predict_CNN)\n",
        "print(\"Mean Absolute Error: \",MAE)"
      ],
      "execution_count": 81,
      "outputs": [
        {
          "output_type": "stream",
          "text": [
            "Mean Square Error:  0.0027286115\n",
            "Root Mean Square Error:  0.052236114\n",
            "Mean Absolute Error:  0.042520467\n"
          ],
          "name": "stdout"
        }
      ]
    },
    {
      "cell_type": "markdown",
      "metadata": {
        "id": "fAo0W8qLXqMy",
        "colab_type": "text"
      },
      "source": [
        "# Performance Metrics for ANN Model"
      ]
    },
    {
      "cell_type": "code",
      "metadata": {
        "id": "Krspmn5SV_N-",
        "colab_type": "code",
        "colab": {
          "base_uri": "https://localhost:8080/",
          "height": 69
        },
        "outputId": "10748669-0a1c-404d-e573-8b314ebd3590"
      },
      "source": [
        "\n",
        "from sklearn import metrics\n",
        "# Calculating the performance metric for ANN model\n",
        "# Mean Square Error error performance metric.  \n",
        "MSE = metrics.mean_squared_error(y_test, predict_ANN)\n",
        "print(\"Mean Square Error: \",MSE)\n",
        "\n",
        "# Root Mean Square Error error metric\n",
        "RMSE = np.sqrt(metrics.mean_squared_error(y_test, predict_ANN))\n",
        "print(\"Root Mean Square Error: \",RMSE)\n",
        "\n",
        "# Mean Absolute Error metric\n",
        "MAE = metrics.mean_absolute_error(y_test, predict_ANN)\n",
        "print(\"Mean Absolute Error: \",MAE)\n"
      ],
      "execution_count": 82,
      "outputs": [
        {
          "output_type": "stream",
          "text": [
            "Mean Square Error:  0.004305512\n",
            "Root Mean Square Error:  0.0656164\n",
            "Mean Absolute Error:  0.052201148\n"
          ],
          "name": "stdout"
        }
      ]
    },
    {
      "cell_type": "markdown",
      "metadata": {
        "id": "iOvYJQsDX66p",
        "colab_type": "text"
      },
      "source": [
        "# Perfomance Metrics for CNN Model"
      ]
    },
    {
      "cell_type": "code",
      "metadata": {
        "id": "ZNwePNFbWqNn",
        "colab_type": "code",
        "colab": {
          "base_uri": "https://localhost:8080/",
          "height": 69
        },
        "outputId": "424a723e-191c-4919-d0c3-7f985bc758b5"
      },
      "source": [
        "from sklearn import metrics\n",
        "\n",
        "# Comparing the prediction performance of ANN and CNN using performance metrics\n",
        "\n",
        "# Mean Square Error error performance metric.  \n",
        "MSE = metrics.mean_squared_error(y_test, predict_CNN)\n",
        "print(\"Mean Square Error: \",MSE)\n",
        "\n",
        "# Root Mean Square Error error metric\n",
        "RMSE = np.sqrt(metrics.mean_squared_error(y_test, predict_CNN))\n",
        "print(\"Root Mean Square Error: \",RMSE)\n",
        "\n",
        "# Mean Absolute Error metric\n",
        "MAE = metrics.mean_absolute_error(y_test, predict_CNN)\n",
        "print(\"Mean Absolute Error: \",MAE)"
      ],
      "execution_count": 83,
      "outputs": [
        {
          "output_type": "stream",
          "text": [
            "Mean Square Error:  0.0022369714\n",
            "Root Mean Square Error:  0.047296632\n",
            "Mean Absolute Error:  0.038754657\n"
          ],
          "name": "stdout"
        }
      ]
    },
    {
      "cell_type": "markdown",
      "metadata": {
        "id": "vPpTvqb7cW8s",
        "colab_type": "text"
      },
      "source": [
        "By comparing both models performance metrics, CNN model is very efficient than ANN model because it resulting less mean square error, root mean square error and mean absolute error than ANN model."
      ]
    },
    {
      "cell_type": "code",
      "metadata": {
        "id": "0r8GyN7XczLd",
        "colab_type": "code",
        "colab": {}
      },
      "source": [
        "#Comparsion of both models predictive performance\n",
        "#By comparing both models performance metrics, CNN model is very efficient than ANN model\n",
        "# because it resulting less mean square error, root mean square error and mean absolute error than ANN model.\n"
      ],
      "execution_count": 84,
      "outputs": []
    },
    {
      "cell_type": "code",
      "metadata": {
        "id": "vgLkgY0VV_OC",
        "colab_type": "code",
        "colab": {}
      },
      "source": [
        ""
      ],
      "execution_count": 84,
      "outputs": []
    }
  ]
}